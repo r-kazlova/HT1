{
 "cells": [
  {
   "cell_type": "markdown",
   "metadata": {},
   "source": [
    "# Задание 1"
   ]
  },
  {
   "cell_type": "code",
   "execution_count": 13,
   "metadata": {},
   "outputs": [],
   "source": [
    "import pandas as pd\n",
    "import pandas as np\n",
    "import numpy as np"
   ]
  },
  {
   "cell_type": "code",
   "execution_count": 3,
   "metadata": {},
   "outputs": [
    {
     "data": {
      "text/html": [
       "<div>\n",
       "<style scoped>\n",
       "    .dataframe tbody tr th:only-of-type {\n",
       "        vertical-align: middle;\n",
       "    }\n",
       "\n",
       "    .dataframe tbody tr th {\n",
       "        vertical-align: top;\n",
       "    }\n",
       "\n",
       "    .dataframe thead th {\n",
       "        text-align: right;\n",
       "    }\n",
       "</style>\n",
       "<table border=\"1\" class=\"dataframe\">\n",
       "  <thead>\n",
       "    <tr style=\"text-align: right;\">\n",
       "      <th></th>\n",
       "      <th>Unnamed: 0</th>\n",
       "      <th>CONTRACTOR</th>\n",
       "      <th>STATUS</th>\n",
       "      <th>SUM</th>\n",
       "    </tr>\n",
       "  </thead>\n",
       "  <tbody>\n",
       "    <tr>\n",
       "      <th>0</th>\n",
       "      <td>0</td>\n",
       "      <td>Acme, Inc</td>\n",
       "      <td>WAITING</td>\n",
       "      <td>415</td>\n",
       "    </tr>\n",
       "    <tr>\n",
       "      <th>1</th>\n",
       "      <td>1</td>\n",
       "      <td>Umbrella, Inc</td>\n",
       "      <td>WAITING</td>\n",
       "      <td>646</td>\n",
       "    </tr>\n",
       "    <tr>\n",
       "      <th>2</th>\n",
       "      <td>2</td>\n",
       "      <td>Umbrella, Inc</td>\n",
       "      <td>OK</td>\n",
       "      <td>780</td>\n",
       "    </tr>\n",
       "    <tr>\n",
       "      <th>3</th>\n",
       "      <td>3</td>\n",
       "      <td>Umbrella, Inc</td>\n",
       "      <td>CANCELED</td>\n",
       "      <td>887</td>\n",
       "    </tr>\n",
       "    <tr>\n",
       "      <th>4</th>\n",
       "      <td>4</td>\n",
       "      <td>Umbrella, Inc</td>\n",
       "      <td>OK</td>\n",
       "      <td>255</td>\n",
       "    </tr>\n",
       "  </tbody>\n",
       "</table>\n",
       "</div>"
      ],
      "text/plain": [
       "   Unnamed: 0     CONTRACTOR    STATUS  SUM\n",
       "0           0      Acme, Inc   WAITING  415\n",
       "1           1  Umbrella, Inc   WAITING  646\n",
       "2           2  Umbrella, Inc        OK  780\n",
       "3           3  Umbrella, Inc  CANCELED  887\n",
       "4           4  Umbrella, Inc        OK  255"
      ]
     },
     "execution_count": 3,
     "metadata": {},
     "output_type": "execute_result"
    }
   ],
   "source": [
    "data1 = pd.read_csv('transactions.csv')\n",
    "data1.head()"
   ]
  },
  {
   "cell_type": "code",
   "execution_count": 4,
   "metadata": {},
   "outputs": [],
   "source": [
    "df1 = data1.drop(np.where(data1['STATUS'] == 'Acme, Inc')[0])"
   ]
  },
  {
   "cell_type": "code",
   "execution_count": 5,
   "metadata": {},
   "outputs": [
    {
     "data": {
      "text/html": [
       "<div>\n",
       "<style scoped>\n",
       "    .dataframe tbody tr th:only-of-type {\n",
       "        vertical-align: middle;\n",
       "    }\n",
       "\n",
       "    .dataframe tbody tr th {\n",
       "        vertical-align: top;\n",
       "    }\n",
       "\n",
       "    .dataframe thead th {\n",
       "        text-align: right;\n",
       "    }\n",
       "</style>\n",
       "<table border=\"1\" class=\"dataframe\">\n",
       "  <thead>\n",
       "    <tr style=\"text-align: right;\">\n",
       "      <th></th>\n",
       "      <th>Unnamed: 0</th>\n",
       "      <th>CONTRACTOR</th>\n",
       "      <th>STATUS</th>\n",
       "      <th>SUM</th>\n",
       "    </tr>\n",
       "  </thead>\n",
       "  <tbody>\n",
       "    <tr>\n",
       "      <th>5085</th>\n",
       "      <td>5085</td>\n",
       "      <td>Acme, Inc</td>\n",
       "      <td>OK</td>\n",
       "      <td>100500</td>\n",
       "    </tr>\n",
       "    <tr>\n",
       "      <th>4451</th>\n",
       "      <td>4451</td>\n",
       "      <td>Umbrella, Inc</td>\n",
       "      <td>OK</td>\n",
       "      <td>1000</td>\n",
       "    </tr>\n",
       "    <tr>\n",
       "      <th>1348</th>\n",
       "      <td>1348</td>\n",
       "      <td>Acme, Inc</td>\n",
       "      <td>OK</td>\n",
       "      <td>999</td>\n",
       "    </tr>\n",
       "  </tbody>\n",
       "</table>\n",
       "</div>"
      ],
      "text/plain": [
       "      Unnamed: 0     CONTRACTOR STATUS     SUM\n",
       "5085        5085      Acme, Inc     OK  100500\n",
       "4451        4451  Umbrella, Inc     OK    1000\n",
       "1348        1348      Acme, Inc     OK     999"
      ]
     },
     "execution_count": 5,
     "metadata": {},
     "output_type": "execute_result"
    }
   ],
   "source": [
    "data1.loc[data1['STATUS'] == 'OK'].sort_values(by='SUM', \n",
    "        ascending=False).head(3)"
   ]
  },
  {
   "cell_type": "code",
   "execution_count": 6,
   "metadata": {},
   "outputs": [
    {
     "data": {
      "text/html": [
       "<div>\n",
       "<style scoped>\n",
       "    .dataframe tbody tr th:only-of-type {\n",
       "        vertical-align: middle;\n",
       "    }\n",
       "\n",
       "    .dataframe tbody tr th {\n",
       "        vertical-align: top;\n",
       "    }\n",
       "\n",
       "    .dataframe thead th {\n",
       "        text-align: right;\n",
       "    }\n",
       "</style>\n",
       "<table border=\"1\" class=\"dataframe\">\n",
       "  <thead>\n",
       "    <tr style=\"text-align: right;\">\n",
       "      <th></th>\n",
       "      <th>Unnamed: 0</th>\n",
       "      <th>CONTRACTOR</th>\n",
       "      <th>STATUS</th>\n",
       "      <th>SUM</th>\n",
       "    </tr>\n",
       "  </thead>\n",
       "  <tbody>\n",
       "    <tr>\n",
       "      <th>2</th>\n",
       "      <td>2</td>\n",
       "      <td>Umbrella, Inc</td>\n",
       "      <td>OK</td>\n",
       "      <td>780</td>\n",
       "    </tr>\n",
       "    <tr>\n",
       "      <th>4</th>\n",
       "      <td>4</td>\n",
       "      <td>Umbrella, Inc</td>\n",
       "      <td>OK</td>\n",
       "      <td>255</td>\n",
       "    </tr>\n",
       "    <tr>\n",
       "      <th>19</th>\n",
       "      <td>19</td>\n",
       "      <td>Umbrella, Inc</td>\n",
       "      <td>OK</td>\n",
       "      <td>122</td>\n",
       "    </tr>\n",
       "    <tr>\n",
       "      <th>29</th>\n",
       "      <td>29</td>\n",
       "      <td>Umbrella, Inc</td>\n",
       "      <td>OK</td>\n",
       "      <td>295</td>\n",
       "    </tr>\n",
       "    <tr>\n",
       "      <th>33</th>\n",
       "      <td>33</td>\n",
       "      <td>Umbrella, Inc</td>\n",
       "      <td>OK</td>\n",
       "      <td>453</td>\n",
       "    </tr>\n",
       "  </tbody>\n",
       "</table>\n",
       "</div>"
      ],
      "text/plain": [
       "    Unnamed: 0     CONTRACTOR STATUS  SUM\n",
       "2            2  Umbrella, Inc     OK  780\n",
       "4            4  Umbrella, Inc     OK  255\n",
       "19          19  Umbrella, Inc     OK  122\n",
       "29          29  Umbrella, Inc     OK  295\n",
       "33          33  Umbrella, Inc     OK  453"
      ]
     },
     "execution_count": 6,
     "metadata": {},
     "output_type": "execute_result"
    }
   ],
   "source": [
    "df = data1.drop(np.where(data1['CONTRACTOR'] == 'Acme, Inc')[0])\n",
    "df2 = df.loc[data1['STATUS'] == 'OK']\n",
    "df2.head()"
   ]
  },
  {
   "cell_type": "code",
   "execution_count": 7,
   "metadata": {},
   "outputs": [
    {
     "name": "stdout",
     "output_type": "stream",
     "text": [
      "Column SUM sum: 925719\n"
     ]
    }
   ],
   "source": [
    "Total = df2['SUM'].sum()\n",
    "print (\"Column SUM sum:\",Total)"
   ]
  },
  {
   "cell_type": "markdown",
   "metadata": {},
   "source": [
    "# Задание 2"
   ]
  },
  {
   "cell_type": "code",
   "execution_count": 8,
   "metadata": {},
   "outputs": [],
   "source": [
    "import pandas as pd\n",
    "import pandas as np\n",
    "from numpy import sqrt\n",
    "import matplotlib.pyplot as plt"
   ]
  },
  {
   "cell_type": "code",
   "execution_count": 9,
   "metadata": {},
   "outputs": [
    {
     "data": {
      "text/html": [
       "<div>\n",
       "<style scoped>\n",
       "    .dataframe tbody tr th:only-of-type {\n",
       "        vertical-align: middle;\n",
       "    }\n",
       "\n",
       "    .dataframe tbody tr th {\n",
       "        vertical-align: top;\n",
       "    }\n",
       "\n",
       "    .dataframe thead th {\n",
       "        text-align: right;\n",
       "    }\n",
       "</style>\n",
       "<table border=\"1\" class=\"dataframe\">\n",
       "  <thead>\n",
       "    <tr style=\"text-align: right;\">\n",
       "      <th></th>\n",
       "      <th>Unnamed: 0</th>\n",
       "      <th>CONTRACTOR</th>\n",
       "      <th>STATUS</th>\n",
       "      <th>SUM</th>\n",
       "    </tr>\n",
       "  </thead>\n",
       "  <tbody>\n",
       "    <tr>\n",
       "      <th>0</th>\n",
       "      <td>0</td>\n",
       "      <td>Acme, Inc</td>\n",
       "      <td>WAITING</td>\n",
       "      <td>415</td>\n",
       "    </tr>\n",
       "    <tr>\n",
       "      <th>1</th>\n",
       "      <td>1</td>\n",
       "      <td>Umbrella, Inc</td>\n",
       "      <td>WAITING</td>\n",
       "      <td>646</td>\n",
       "    </tr>\n",
       "    <tr>\n",
       "      <th>2</th>\n",
       "      <td>2</td>\n",
       "      <td>Umbrella, Inc</td>\n",
       "      <td>OK</td>\n",
       "      <td>780</td>\n",
       "    </tr>\n",
       "    <tr>\n",
       "      <th>3</th>\n",
       "      <td>3</td>\n",
       "      <td>Umbrella, Inc</td>\n",
       "      <td>CANCELED</td>\n",
       "      <td>887</td>\n",
       "    </tr>\n",
       "    <tr>\n",
       "      <th>4</th>\n",
       "      <td>4</td>\n",
       "      <td>Umbrella, Inc</td>\n",
       "      <td>OK</td>\n",
       "      <td>255</td>\n",
       "    </tr>\n",
       "  </tbody>\n",
       "</table>\n",
       "</div>"
      ],
      "text/plain": [
       "   Unnamed: 0     CONTRACTOR    STATUS  SUM\n",
       "0           0      Acme, Inc   WAITING  415\n",
       "1           1  Umbrella, Inc   WAITING  646\n",
       "2           2  Umbrella, Inc        OK  780\n",
       "3           3  Umbrella, Inc  CANCELED  887\n",
       "4           4  Umbrella, Inc        OK  255"
      ]
     },
     "execution_count": 9,
     "metadata": {},
     "output_type": "execute_result"
    }
   ],
   "source": [
    "data1.head()"
   ]
  },
  {
   "cell_type": "code",
   "execution_count": 10,
   "metadata": {},
   "outputs": [],
   "source": [
    "data1 = pd.read_csv('flights.csv')\n",
    "company_list = data1.groupby('CARGO').sum()\n",
    "company_list.head()\n",
    "flight_record = (sqrt(company_list['Unnamed: 0'] * 8 + 1) + 1)/2\n",
    "cargo_weight = company_list['WEIGHT']\n",
    "total_revenue = company_list['PRICE']\n",
    "company_list['Unnamed: 0'] = flight_record"
   ]
  },
  {
   "cell_type": "code",
   "execution_count": 11,
   "metadata": {},
   "outputs": [
    {
     "data": {
      "image/png": "[encoded data removed]",
      "text/plain": [
       "<Figure size 1152x648 with 3 Axes>"
      ]
     },
     "metadata": {
      "needs_background": "light"
     },
     "output_type": "display_data"
    }
   ],
   "source": [
    "ax = company_list.plot(kind='bar', subplots=True,\n",
    "legend=False, title=['Number of flights', 'Total cargo shipped', 'Total revenue'], layout=(1,3), figsize=(16,9))"
   ]
  },
  {
   "cell_type": "markdown",
   "metadata": {},
   "source": [
    "# Задание 3"
   ]
  },
  {
   "cell_type": "code",
   "execution_count": 14,
   "metadata": {},
   "outputs": [],
   "source": [
    "import pandas as pd\n",
    "import numpy as np\n",
    "import matplotlib.pyplot as plt"
   ]
  },
  {
   "cell_type": "code",
   "execution_count": 15,
   "metadata": {},
   "outputs": [],
   "source": [
    "departament_data = pd.read_excel('students_info.xlsx')\n",
    "ejudge_datas = pd.read_html('results_ejudge.html')\n",
    "ejudge_data = ejudge_datas[0]\n",
    "m = pd.merge(departament_data, ejudge_data, left_on='login', right_on='User')\n",
    "departament_groups = m.loc[:, ['group_faculty', 'Solved']].groupby('group_faculty').mean()\n",
    "computer_science_groups = m.loc[:, ['group_out', 'Solved']].groupby('group_out').mean()\n"
   ]
  },
  {
   "cell_type": "code",
   "execution_count": 16,
   "metadata": {},
   "outputs": [
    {
     "data": {
      "image/png": "[encoded data removed]",
      "text/plain": [
       "<Figure size 432x288 with 1 Axes>"
      ]
     },
     "metadata": {
      "needs_background": "light"
     },
     "output_type": "display_data"
    }
   ],
   "source": [
    "ax1 = departament_groups.plot(kind='bar')\n"
   ]
  },
  {
   "cell_type": "code",
   "execution_count": 17,
   "metadata": {},
   "outputs": [
    {
     "data": {
      "image/png": "[encoded data removed]",
      "text/plain": [
       "<Figure size 432x288 with 1 Axes>"
      ]
     },
     "metadata": {
      "needs_background": "light"
     },
     "output_type": "display_data"
    }
   ],
   "source": [
    "ax2 = computer_science_groups.plot(kind='bar')"
   ]
  },
  {
   "cell_type": "code",
   "execution_count": 18,
   "metadata": {},
   "outputs": [
    {
     "name": "stdout",
     "output_type": "stream",
     "text": [
      "       login  group_faculty  group_out     G     H\n",
      "0   r0300205              2         33  30.0  49.0\n",
      "1   r0300206              2         33  30.0  49.0\n",
      "2   r0300508              5         33  29.0   NaN\n",
      "3   r0300202              2         33   9.0  10.0\n",
      "4   r0300209              2         33   0.0  30.0\n",
      "5   r0300212              2         36   NaN  20.0\n",
      "6   r0300301              3         35   8.0  23.0\n",
      "7   r0300314              3         33   9.0  20.0\n",
      "8   r0300414              4         33   NaN  15.0\n",
      "9   r0300511              5         35   NaN  29.0\n",
      "10  r0300514              5         33   NaN  30.0\n",
      "11  r0300515              5         35   NaN  25.0\n"
     ]
    }
   ],
   "source": [
    "clever_guys = pd.merge(m.loc[m['G'] > 9],  m.loc[m['H'] > 9], on=['login', 'group_faculty', 'group_out', 'G', 'H'], how='outer').loc[:, ['login', 'group_faculty', 'group_out', 'G', 'H']]\n",
    "print(clever_guys)"
   ]
  }
 ],
 "metadata": {
  "kernelspec": {
   "display_name": "Python 3",
   "language": "python",
   "name": "python3"
  },
  "language_info": {
   "codemirror_mode": {
    "name": "ipython",
    "version": 3
   },
   "file_extension": ".py",
   "mimetype": "text/x-python",
   "name": "python",
   "nbconvert_exporter": "python",
   "pygments_lexer": "ipython3",
   "version": "3.8.3"
  }
 },
 "nbformat": 4,
 "nbformat_minor": 4
}
